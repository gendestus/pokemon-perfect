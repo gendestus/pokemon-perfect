{
 "cells": [
  {
   "cell_type": "code",
   "execution_count": 22,
   "id": "b69ff1b1",
   "metadata": {},
   "outputs": [],
   "source": [
    "import json\n",
    "from jinja2 import Template"
   ]
  },
  {
   "cell_type": "code",
   "execution_count": 39,
   "id": "8f8ac670",
   "metadata": {},
   "outputs": [],
   "source": [
    "encounters_data_file = \"../src/data/wild_encounters.json\""
   ]
  },
  {
   "cell_type": "code",
   "execution_count": 40,
   "id": "b2d88d31",
   "metadata": {},
   "outputs": [],
   "source": [
    "with open(encounters_data_file, 'r', encoding='utf8') as file:\n",
    "    encounters_data = json.load(file)"
   ]
  },
  {
   "cell_type": "code",
   "execution_count": 41,
   "id": "7923e1c8",
   "metadata": {},
   "outputs": [],
   "source": [
    "poke_encounters = {}\n",
    "\n",
    "for encounter in encounters_data['wild_encounter_groups'][0][\"encounters\"]:\n",
    "    if \"LeafGreen\" in encounter['base_label']:\n",
    "        continue\n",
    "\n",
    "    if encounter['map'] not in poke_encounters:\n",
    "        poke_encounters[encounter['map']] = {\"land\": [], \"water\": [], \"fishing\": [], \"rock_smash\": []}\n",
    "    if \"land_mons\" in encounter:\n",
    "        for mon in encounter['land_mons']['mons']:\n",
    "            if mon['species'] not in poke_encounters[encounter['map']]['land']:\n",
    "                poke_encounters[encounter['map']]['land'].append(mon['species'])\n",
    "    if \"water_mons\" in encounter:\n",
    "        for mon in encounter['water_mons']['mons']:\n",
    "            if mon['species'] not in poke_encounters[encounter['map']]['water']:\n",
    "                poke_encounters[encounter['map']]['water'].append(mon['species'])\n",
    "    if \"fishing_mons\" in encounter:\n",
    "        for mon in encounter['fishing_mons']['mons']:\n",
    "            if mon['species'] not in poke_encounters[encounter['map']]['fishing']:\n",
    "                poke_encounters[encounter['map']]['fishing'].append(mon['species'])\n",
    "    if \"rock_smash_mons\" in encounter:\n",
    "        for mon in encounter['rock_smash_mons']['mons']:\n",
    "            if mon['species'] not in poke_encounters[encounter['map']]['rock_smash']:\n",
    "                poke_encounters[encounter['map']]['rock_smash'].append(mon['species'])\n",
    "    \n"
   ]
  },
  {
   "cell_type": "code",
   "execution_count": 42,
   "id": "fd98696a",
   "metadata": {},
   "outputs": [],
   "source": [
    "template_str = \"\"\"\n",
    "<html>\n",
    "<body>\n",
    "    {% for enc, data in poke_encounters.items() %}\n",
    "        <h2>{{ enc }}</h2>\n",
    "        <h3>Land Encounters</h3>\n",
    "        <ul>\n",
    "            {% for mon in data.land %}\n",
    "                <li>{{ mon }}</li>\n",
    "            {% endfor %}\n",
    "        </ul>\n",
    "        <h3>Water Encounters</h3>\n",
    "        <ul>\n",
    "            {% for mon in data.water %}\n",
    "                <li>{{ mon }}</li>\n",
    "            {% endfor %}\n",
    "        </ul>\n",
    "        <h3>Fishing Encounters</h3>\n",
    "        <ul>\n",
    "            {% for mon in data.fishing %}\n",
    "                <li>{{ mon }}</li>\n",
    "            {% endfor %}\n",
    "        </ul>\n",
    "        <h3>Rock Smash Encounters</h3>\n",
    "        <ul>\n",
    "            {% for mon in data.rock_smash %}\n",
    "                <li>{{ mon }}</li>\n",
    "            {% endfor %}\n",
    "        </ul>\n",
    "        <hr>\n",
    "    {% endfor %}\n",
    "</body>\n",
    "</html>\n",
    "\"\"\""
   ]
  },
  {
   "cell_type": "code",
   "execution_count": 43,
   "id": "1bd81e6c",
   "metadata": {},
   "outputs": [],
   "source": [
    "template = Template(template_str)\n",
    "html = template.render(poke_encounters=poke_encounters)"
   ]
  },
  {
   "cell_type": "code",
   "execution_count": 44,
   "id": "ead5b1cc",
   "metadata": {},
   "outputs": [],
   "source": [
    "with open(\"encounters.html\", \"w\", encoding=\"utf8\") as f:\n",
    "    f.write(html)"
   ]
  },
  {
   "cell_type": "code",
   "execution_count": null,
   "id": "ca865346",
   "metadata": {},
   "outputs": [],
   "source": []
  }
 ],
 "metadata": {
  "kernelspec": {
   "display_name": "Python 3",
   "language": "python",
   "name": "python3"
  },
  "language_info": {
   "codemirror_mode": {
    "name": "ipython",
    "version": 3
   },
   "file_extension": ".py",
   "mimetype": "text/x-python",
   "name": "python",
   "nbconvert_exporter": "python",
   "pygments_lexer": "ipython3",
   "version": "3.13.2"
  }
 },
 "nbformat": 4,
 "nbformat_minor": 5
}
