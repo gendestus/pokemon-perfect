{
 "cells": [
  {
   "cell_type": "code",
   "execution_count": 30,
   "id": "f1483e19",
   "metadata": {},
   "outputs": [],
   "source": [
    "import bs4\n",
    "import requests\n",
    "import re\n",
    "from typing import Dict, Any, List\n",
    "import json\n",
    "import random"
   ]
  },
  {
   "cell_type": "code",
   "execution_count": 3,
   "id": "57642d95",
   "metadata": {},
   "outputs": [],
   "source": [
    "data_url = \"https://pokemondb.net/evolution/level\""
   ]
  },
  {
   "cell_type": "code",
   "execution_count": 5,
   "id": "5e1a5341",
   "metadata": {},
   "outputs": [],
   "source": [
    "# get html from the URL\n",
    "response = requests.get(data_url)"
   ]
  },
  {
   "cell_type": "code",
   "execution_count": 7,
   "id": "223f94a3",
   "metadata": {},
   "outputs": [],
   "source": [
    "# get the table with id \"evolution\"\n",
    "soup = bs4.BeautifulSoup(response.text, 'html.parser')\n",
    "table = soup.find('table', {'id': 'evolution'})"
   ]
  },
  {
   "cell_type": "code",
   "execution_count": 9,
   "id": "6454bc37",
   "metadata": {},
   "outputs": [],
   "source": [
    "rows = table.find_all('tr')"
   ]
  },
  {
   "cell_type": "code",
   "execution_count": 15,
   "id": "886a398c",
   "metadata": {},
   "outputs": [
    {
     "data": {
      "text/plain": [
       "<tr>\n",
       "<td class=\"cell-fixed cell-name\"><picture class=\"infocard-cell-img\">\n",
       "<source height=\"56\" srcset=\"https://img.pokemondb.net/sprites/scarlet-violet/icon/avif/bulbasaur.avif\" type=\"image/avif\" width=\"60\"/>\n",
       "<img alt=\"Bulbasaur\" class=\"img-fixed icon-pkmn\" height=\"56\" loading=\"lazy\" src=\"https://img.pokemondb.net/sprites/scarlet-violet/icon/bulbasaur.png\" width=\"60\"/>\n",
       "</picture><span class=\"infocard-cell-data\"><a class=\"ent-name\" href=\"/pokedex/bulbasaur\" title=\"View Pokedex for #0001 Bulbasaur\">Bulbasaur</a></span>\n",
       "</td>\n",
       "<td class=\"text-center\">→</td>\n",
       "<td class=\"cell-fixed cell-name\"><picture class=\"infocard-cell-img\">\n",
       "<source height=\"56\" srcset=\"https://img.pokemondb.net/sprites/scarlet-violet/icon/avif/ivysaur.avif\" type=\"image/avif\" width=\"60\"/>\n",
       "<img alt=\"Ivysaur\" class=\"img-fixed icon-pkmn\" height=\"56\" loading=\"lazy\" src=\"https://img.pokemondb.net/sprites/scarlet-violet/icon/ivysaur.png\" width=\"60\"/>\n",
       "</picture><span class=\"infocard-cell-data\"><a class=\"ent-name\" href=\"/pokedex/ivysaur\" title=\"View Pokedex for #0002 Ivysaur\">Ivysaur</a></span>\n",
       "</td>\n",
       "<td class=\"cell-num\">16</td>\n",
       "<td class=\"cell-med-text\"></td>\n",
       "</tr>"
      ]
     },
     "execution_count": 15,
     "metadata": {},
     "output_type": "execute_result"
    }
   ],
   "source": [
    "rows[1]"
   ]
  },
  {
   "cell_type": "code",
   "execution_count": 65,
   "id": "246b0674",
   "metadata": {},
   "outputs": [],
   "source": [
    "def extract_poke_level_data(rows: list) -> dict:\n",
    "    poke_level_data = {}\n",
    "    for row in rows[1:]:\n",
    "        poke_name = row.find_all('td')[2].find('img')['src'].split('/')[-1].split('.')[0]\n",
    "        min_level = int(row.find_all('td')[3].text.strip())\n",
    "        devolve_target = row.find_all('td')[0].find('img')['src'].split('/')[-1].split('.')[0]\n",
    "        poke_level_data[poke_name] = {\n",
    "            'min_level': min_level,\n",
    "            'devolve_target': devolve_target.capitalize().replace('-', ' ')\n",
    "        }\n",
    "    return poke_level_data\n",
    "def extract_trainer_data(key: str, text: str) -> Dict[str, Any]:\n",
    "    lines = [line.strip() for line in text.strip().splitlines() if line.strip()]\n",
    "    \n",
    "    trainer_data = {'key': key, 'team': []}\n",
    "    current_pokemon = None\n",
    "    \n",
    "    for line in lines:\n",
    "        if ':' in line and not line.startswith('-'):\n",
    "            # Key-value pair; could be trainer metadata or part of a Pokémon\n",
    "            k, v = line.split(':', 1)\n",
    "            k = k.strip()\n",
    "            v = v.strip()\n",
    "            if current_pokemon is None:\n",
    "                # Trainer-level metadata\n",
    "                trainer_data[k.lower().replace(\" \", \"_\")] = v\n",
    "            else:\n",
    "                if k.lower() == 'level':\n",
    "                    current_pokemon['level'] = int(v)\n",
    "                elif k.lower() == 'ivs':\n",
    "                    \n",
    "                    current_pokemon['ivs'] = v\n",
    "                else:\n",
    "                    # Arbitrary key-value at Pokémon level\n",
    "                    current_pokemon[k.lower().replace(\" \", \"_\")] = v\n",
    "        elif line.startswith('-'):\n",
    "            # Move line\n",
    "            if current_pokemon is not None:\n",
    "                current_pokemon.setdefault('moves', []).append(line[1:].strip())\n",
    "        else:\n",
    "            # New Pokémon name (line with no colon or dash)\n",
    "            if current_pokemon:\n",
    "                trainer_data['team'].append(current_pokemon)\n",
    "            current_pokemon = {'name': line.strip()}\n",
    "    \n",
    "    if current_pokemon:\n",
    "        trainer_data['team'].append(current_pokemon)\n",
    "    \n",
    "    return trainer_data\n",
    "def output_trainer_data(trainer: object) -> str:\n",
    "    t_data = f\"=== {trainer['key']} ===\\n\"\n",
    "    for key, value in trainer.items():\n",
    "        if key != \"team\" and key != \"key\":\n",
    "            if key == \"ai\":\n",
    "                fixed_key = \"AI\"\n",
    "            elif key == \"double_battle\":\n",
    "                fixed_key = \"Double Battle\"\n",
    "            else:\n",
    "                fixed_key = key.replace('_', ' ').capitalize()\n",
    "            t_data += f\"{fixed_key}: {value}\\n\"\n",
    "        \n",
    "    t_data += \"\\n\"\n",
    "    if \"team\" in trainer:\n",
    "        for p in trainer[\"team\"]:\n",
    "            t_data += f\"{p['name']}\\n\"\n",
    "            t_data += f\"Level: {p.get('level', 'N/A')}\\n\"\n",
    "            if \"ivs\" in p:\n",
    "                t_data += f\"IVs: {p['ivs']}\\n\"\n",
    "            if \"moves\" in p:\n",
    "                m_count = 0\n",
    "                for m in p[\"moves\"]:\n",
    "                    if m_count >= 4:\n",
    "                        break\n",
    "                    t_data += f\"- {m.title()}\\n\"\n",
    "                    m_count += 1\n",
    "                \n",
    "            t_data += \"\\n\"\n",
    "    return t_data.strip()\n"
   ]
  },
  {
   "cell_type": "code",
   "execution_count": 52,
   "id": "9051cc4f",
   "metadata": {},
   "outputs": [],
   "source": [
    "min_levels = extract_poke_level_data(rows)"
   ]
  },
  {
   "cell_type": "code",
   "execution_count": 61,
   "id": "aab1af4d",
   "metadata": {},
   "outputs": [],
   "source": [
    "def should_devolve(pokemon: str, level: int) -> bool:\n",
    "    if pokemon.lower() in min_levels:\n",
    "        return level < min_levels[pokemon.lower()][\"min_level\"]\n",
    "    return False"
   ]
  },
  {
   "cell_type": "code",
   "execution_count": 53,
   "id": "5421eb95",
   "metadata": {},
   "outputs": [
    {
     "data": {
      "text/plain": [
       "{'min_level': 16, 'devolve_target': 'Nidoran f'}"
      ]
     },
     "execution_count": 53,
     "metadata": {},
     "output_type": "execute_result"
    }
   ],
   "source": [
    "min_levels[\"nidorina\"]"
   ]
  },
  {
   "cell_type": "code",
   "execution_count": 33,
   "id": "71d33693",
   "metadata": {},
   "outputs": [],
   "source": [
    "filepath = \"C:\\\\projects\\\\pokefirered-expansion\\\\src\\\\data\\\\trainers.party\"\n",
    "with open(filepath, 'r', encoding=\"utf8\") as file:\n",
    "    trainers_data = file.read()\n",
    "trainers = {}\n",
    "\n",
    "pattern = r\"=== (.*?) ===\\n(.*?)(?=\\n=== |\\n$)\"\n",
    "trainer_blobs = re.findall(pattern, trainers_data, re.DOTALL)\n",
    "\n",
    "for t in trainer_blobs:\n",
    "    trainers[t[0]] = extract_trainer_data(t[0], t[1])"
   ]
  },
  {
   "cell_type": "code",
   "execution_count": 64,
   "id": "d7293e8d",
   "metadata": {},
   "outputs": [
    {
     "name": "stdout",
     "output_type": "stream",
     "text": [
      "Devolving Pidgeotto for trainer TRAINER_YOUNGSTER_BEN at level 13\n",
      "Devolving Pidgeotto for trainer TRAINER_YOUNGSTER_JOEY at level 16\n",
      "Devolving Pidgeotto for trainer TRAINER_YOUNGSTER_DILLON at level 17\n",
      "Devolving Pidgeotto for trainer TRAINER_YOUNGSTER_BEN_2 at level 17\n",
      "Devolving Kakuna for trainer TRAINER_BUG_CATCHER_RICK at level 6\n",
      "Devolving Pidgeotto for trainer TRAINER_LASS_SALLY at level 9\n",
      "Devolving Pidgeotto for trainer TRAINER_LASS_2 at level 15\n",
      "Devolving Whirlipede for trainer TRAINER_TEAM_ROCKET_GRUNT_9 at level 19\n",
      "Devolving Whirlipede for trainer TRAINER_TEAM_ROCKET_GRUNT_12 at level 21\n",
      "Devolving Whirlipede for trainer TRAINER_TEAM_ROCKET_GRUNT_18 at level 20\n",
      "Devolving Metapod for trainer TRAINER_BUG_CATCHER_5 at level 6\n",
      "Devolving Kakuna for trainer TRAINER_BUG_CATCHER_5 at level 3\n",
      "Devolving Whirlipede for trainer TRAINER_BIKER_2 at level 7\n",
      "Devolving Kakuna for trainer TRAINER_BUG_CATCHER_ANTHONY at level 4\n"
     ]
    }
   ],
   "source": [
    "for k, v in trainers.items():\n",
    "    if v['team']:\n",
    "        for p in v['team']:\n",
    "            if should_devolve(p[\"name\"].lower(), p[\"level\"]):\n",
    "                print(f\"Devolving {p['name']} for trainer {k} at level {p['level']}\")\n",
    "                p[\"name\"] = min_levels[p[\"name\"].lower()][\"devolve_target\"]"
   ]
  },
  {
   "cell_type": "code",
   "execution_count": 66,
   "id": "9781608e",
   "metadata": {},
   "outputs": [],
   "source": [
    "trainer_parties = \"\"\n",
    "for t_name, t in trainers.items():\n",
    "    trainer_parties += output_trainer_data(t) + \"\\n\\n\""
   ]
  },
  {
   "cell_type": "code",
   "execution_count": 67,
   "id": "0bf40b34",
   "metadata": {},
   "outputs": [],
   "source": [
    "with open(filepath, 'w', encoding='utf-8') as file:\n",
    "    file.write(trainer_parties)"
   ]
  }
 ],
 "metadata": {
  "kernelspec": {
   "display_name": "Python 3",
   "language": "python",
   "name": "python3"
  },
  "language_info": {
   "codemirror_mode": {
    "name": "ipython",
    "version": 3
   },
   "file_extension": ".py",
   "mimetype": "text/x-python",
   "name": "python",
   "nbconvert_exporter": "python",
   "pygments_lexer": "ipython3",
   "version": "3.13.2"
  }
 },
 "nbformat": 4,
 "nbformat_minor": 5
}
